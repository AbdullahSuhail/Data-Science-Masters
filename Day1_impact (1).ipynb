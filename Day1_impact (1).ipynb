{
 "cells": [
  {
   "cell_type": "code",
   "execution_count": 4,
   "id": "ced009c0-7aba-48f2-860b-448f7335ea27",
   "metadata": {},
   "outputs": [
    {
     "data": {
      "text/plain": [
       "2"
      ]
     },
     "execution_count": 4,
     "metadata": {},
     "output_type": "execute_result"
    }
   ],
   "source": [
    "1+1"
   ]
  },
  {
   "cell_type": "code",
   "execution_count": null,
   "id": "42b24112-49ff-4939-8494-3efcfc6f1cd1",
   "metadata": {},
   "outputs": [],
   "source": []
  },
  {
   "cell_type": "code",
   "execution_count": 4,
   "id": "1127328e-3627-499d-a871-7322ab7681d7",
   "metadata": {},
   "outputs": [
    {
     "data": {
      "text/plain": [
       "2"
      ]
     },
     "execution_count": 4,
     "metadata": {},
     "output_type": "execute_result"
    }
   ],
   "source": [
    "1+1"
   ]
  },
  {
   "cell_type": "code",
   "execution_count": 5,
   "id": "ae1cb4ae-90c2-4740-ad04-66b1e6c06d41",
   "metadata": {},
   "outputs": [
    {
     "data": {
      "text/plain": [
       "20"
      ]
     },
     "execution_count": 5,
     "metadata": {},
     "output_type": "execute_result"
    }
   ],
   "source": [
    "##hello hello \n",
    "a=20\n",
    "a"
   ]
  },
  {
   "cell_type": "code",
   "execution_count": 6,
   "id": "06af9b2c-7672-4d7c-b02e-5ef5dc496b6d",
   "metadata": {},
   "outputs": [
    {
     "data": {
      "text/plain": [
       "20"
      ]
     },
     "execution_count": 6,
     "metadata": {},
     "output_type": "execute_result"
    }
   ],
   "source": [
    "\"\"\"\n",
    "hello this is \n",
    "expample of multi \n",
    "\"\"\"\n",
    "a=20\n",
    "a "
   ]
  },
  {
   "cell_type": "markdown",
   "id": "11cd91ee-4d9b-4750-af3b-ffe510f33203",
   "metadata": {},
   "source": [
    "# hello"
   ]
  },
  {
   "cell_type": "markdown",
   "id": "c04867fd-574e-4ff9-a963-82db04f99312",
   "metadata": {},
   "source": [
    "### Numbers"
   ]
  },
  {
   "cell_type": "code",
   "execution_count": 14,
   "id": "58dd39d7-f954-41b4-95cd-daad1523feb1",
   "metadata": {},
   "outputs": [
    {
     "name": "stdout",
     "output_type": "stream",
     "text": [
      "Hello world my name is abdullah \n",
      "i am DS student\n"
     ]
    }
   ],
   "source": [
    "print(\"Hello world my name is abdullah \\ni am DS student\")"
   ]
  },
  {
   "cell_type": "markdown",
   "id": "7f7698e4-dc7c-4d6b-a8e5-49490e6cc8d1",
   "metadata": {},
   "source": [
    "# Variable assignment\n"
   ]
  },
  {
   "cell_type": "code",
   "execution_count": 16,
   "id": "63ec4041-0c60-4639-8819-748279809878",
   "metadata": {},
   "outputs": [],
   "source": [
    "name =\"Abdullah Suhail\"\n",
    "college=\"Integral\""
   ]
  },
  {
   "cell_type": "code",
   "execution_count": 18,
   "id": "e7e47aca-1a03-4a3d-884e-ddd79e7f3a8a",
   "metadata": {},
   "outputs": [
    {
     "data": {
      "text/plain": [
       "'Abdullah Suhail'"
      ]
     },
     "execution_count": 18,
     "metadata": {},
     "output_type": "execute_result"
    }
   ],
   "source": [
    "name"
   ]
  },
  {
   "cell_type": "code",
   "execution_count": 19,
   "id": "16b66d8c-41c6-4fcc-bd1f-f11d602ce509",
   "metadata": {},
   "outputs": [],
   "source": [
    "name=\"dhruv\""
   ]
  },
  {
   "cell_type": "code",
   "execution_count": 20,
   "id": "63e2e677-7966-4f91-a922-cbe8ee4f63d5",
   "metadata": {},
   "outputs": [
    {
     "data": {
      "text/plain": [
       "'dhruv'"
      ]
     },
     "execution_count": 20,
     "metadata": {},
     "output_type": "execute_result"
    }
   ],
   "source": [
    "name"
   ]
  },
  {
   "cell_type": "code",
   "execution_count": 21,
   "id": "30b4a98f-505a-485d-8367-24d6c8b38be2",
   "metadata": {},
   "outputs": [
    {
     "data": {
      "text/plain": [
       "str"
      ]
     },
     "execution_count": 21,
     "metadata": {},
     "output_type": "execute_result"
    }
   ],
   "source": [
    "type(name)"
   ]
  },
  {
   "cell_type": "code",
   "execution_count": 22,
   "id": "ab29a0bc-3394-4a8a-93ef-5b9445168a71",
   "metadata": {},
   "outputs": [],
   "source": [
    "decimal_num=2.5"
   ]
  },
  {
   "cell_type": "code",
   "execution_count": 23,
   "id": "2cbeb0f2-a726-41aa-bfa9-4b935ea61fa8",
   "metadata": {},
   "outputs": [
    {
     "data": {
      "text/plain": [
       "float"
      ]
     },
     "execution_count": 23,
     "metadata": {},
     "output_type": "execute_result"
    }
   ],
   "source": [
    "type(decimal_num)"
   ]
  },
  {
   "cell_type": "code",
   "execution_count": 24,
   "id": "cfe81ee3-9780-4f1b-a742-ca0a7e049347",
   "metadata": {},
   "outputs": [
    {
     "data": {
      "text/plain": [
       "complex"
      ]
     },
     "execution_count": 24,
     "metadata": {},
     "output_type": "execute_result"
    }
   ],
   "source": [
    "type(1+2j)"
   ]
  },
  {
   "cell_type": "code",
   "execution_count": 25,
   "id": "aadc4a05-933b-4523-b254-85e439cfafea",
   "metadata": {},
   "outputs": [],
   "source": [
    "company=\"ineuron\"\n",
    "Company=\"pwskill\""
   ]
  },
  {
   "cell_type": "code",
   "execution_count": 26,
   "id": "45046bd0-b4e4-4eb8-b896-e40b6c01ba39",
   "metadata": {},
   "outputs": [
    {
     "data": {
      "text/plain": [
       "'ineuron'"
      ]
     },
     "execution_count": 26,
     "metadata": {},
     "output_type": "execute_result"
    }
   ],
   "source": [
    "Company\n",
    "company"
   ]
  },
  {
   "cell_type": "code",
   "execution_count": 27,
   "id": "1c27f121-10da-4d64-a0e4-2a9e0eb9f147",
   "metadata": {},
   "outputs": [
    {
     "name": "stdout",
     "output_type": "stream",
     "text": [
      "pwskill\n",
      "ineuron\n"
     ]
    }
   ],
   "source": [
    "print(Company)\n",
    "print(company)"
   ]
  },
  {
   "cell_type": "code",
   "execution_count": 28,
   "id": "b1e61cfc-b1ad-44b3-9c67-ea0879330b14",
   "metadata": {},
   "outputs": [
    {
     "name": "stdout",
     "output_type": "stream",
     "text": [
      "hello\n"
     ]
    }
   ],
   "source": [
    "print(\"hello\")"
   ]
  },
  {
   "cell_type": "code",
   "execution_count": 30,
   "id": "7646dc8b-698f-42ab-9268-7569e715a676",
   "metadata": {},
   "outputs": [
    {
     "data": {
      "text/plain": [
       "False"
      ]
     },
     "execution_count": 30,
     "metadata": {},
     "output_type": "execute_result"
    }
   ],
   "source": [
    "True and False"
   ]
  },
  {
   "cell_type": "code",
   "execution_count": 31,
   "id": "93c0e857-d923-42d3-8546-1f0c67842c39",
   "metadata": {},
   "outputs": [
    {
     "data": {
      "text/plain": [
       "True"
      ]
     },
     "execution_count": 31,
     "metadata": {},
     "output_type": "execute_result"
    }
   ],
   "source": [
    "True or False"
   ]
  },
  {
   "cell_type": "code",
   "execution_count": 33,
   "id": "039dd0bc-67c8-4f9a-99b9-8d1ae72afee5",
   "metadata": {},
   "outputs": [
    {
     "data": {
      "text/plain": [
       "bool"
      ]
     },
     "execution_count": 33,
     "metadata": {},
     "output_type": "execute_result"
    }
   ],
   "source": [
    "type(not True)"
   ]
  },
  {
   "cell_type": "code",
   "execution_count": 34,
   "id": "cb08e72e-45dd-40c0-a7ea-31094d8486e0",
   "metadata": {},
   "outputs": [
    {
     "data": {
      "text/plain": [
       "False"
      ]
     },
     "execution_count": 34,
     "metadata": {},
     "output_type": "execute_result"
    }
   ],
   "source": [
    "bool(0)"
   ]
  },
  {
   "cell_type": "code",
   "execution_count": 35,
   "id": "38c4ec66-9e1c-4429-a1e7-8bf5138e8539",
   "metadata": {},
   "outputs": [
    {
     "name": "stdout",
     "output_type": "stream",
     "text": [
      "true\n"
     ]
    }
   ],
   "source": [
    "a=1 \n",
    "if bool(a)==True:\n",
    "    print(\"true\")"
   ]
  },
  {
   "cell_type": "code",
   "execution_count": 36,
   "id": "49a2c71a-2cc1-4654-950e-c5d7a98f317a",
   "metadata": {},
   "outputs": [
    {
     "data": {
      "text/plain": [
       "False"
      ]
     },
     "execution_count": 36,
     "metadata": {},
     "output_type": "execute_result"
    }
   ],
   "source": [
    "type(bool(a))==True"
   ]
  },
  {
   "cell_type": "code",
   "execution_count": 40,
   "id": "f60cfcea-6893-4ec9-95ba-43d1bc17e1f6",
   "metadata": {},
   "outputs": [
    {
     "name": "stdout",
     "output_type": "stream",
     "text": [
      "23\n"
     ]
    }
   ],
   "source": [
    "print(str)"
   ]
  },
  {
   "cell_type": "code",
   "execution_count": 43,
   "id": "df09fb56-bc71-4e55-af1e-a22d0121abe0",
   "metadata": {},
   "outputs": [
    {
     "data": {
      "text/plain": [
       "int"
      ]
     },
     "execution_count": 43,
     "metadata": {},
     "output_type": "execute_result"
    }
   ],
   "source": [
    "type(int('23'))"
   ]
  },
  {
   "cell_type": "markdown",
   "id": "8cbe9ac1-2346-4e9d-b45c-bb4b8a39e59f",
   "metadata": {},
   "source": [
    "# Dyamic typing \n"
   ]
  },
  {
   "cell_type": "code",
   "execution_count": 44,
   "id": "861e85e2-4125-4c40-a453-534e05c574ad",
   "metadata": {},
   "outputs": [
    {
     "data": {
      "text/plain": [
       "'11'"
      ]
     },
     "execution_count": 44,
     "metadata": {},
     "output_type": "execute_result"
    }
   ],
   "source": [
    "\"1\"+\"1\""
   ]
  },
  {
   "cell_type": "code",
   "execution_count": 45,
   "id": "8e50dbce-dd9b-4ca2-a53d-f9cb01b22a4a",
   "metadata": {},
   "outputs": [
    {
     "data": {
      "text/plain": [
       "'1111111111111111111111111111111111111111111111111111111111111111111111111111111111111111111111111111'"
      ]
     },
     "execution_count": 45,
     "metadata": {},
     "output_type": "execute_result"
    }
   ],
   "source": [
    "\"1\"*100"
   ]
  },
  {
   "cell_type": "code",
   "execution_count": null,
   "id": "dcb2a165-21c5-4aeb-90df-0ee4eebda8e6",
   "metadata": {},
   "outputs": [],
   "source": []
  }
 ],
 "metadata": {
  "kernelspec": {
   "display_name": "Python 3 (ipykernel)",
   "language": "python",
   "name": "python3"
  },
  "language_info": {
   "codemirror_mode": {
    "name": "ipython",
    "version": 3
   },
   "file_extension": ".py",
   "mimetype": "text/x-python",
   "name": "python",
   "nbconvert_exporter": "python",
   "pygments_lexer": "ipython3",
   "version": "3.10.8"
  }
 },
 "nbformat": 4,
 "nbformat_minor": 5
}
